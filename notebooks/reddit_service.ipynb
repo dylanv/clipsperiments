{
 "cells": [
  {
   "cell_type": "code",
   "execution_count": 3,
   "id": "6ac9dfe6",
   "metadata": {},
   "outputs": [
    {
     "name": "stdout",
     "output_type": "stream",
     "text": [
      "The autoreload extension is already loaded. To reload it, use:\n",
      "  %reload_ext autoreload\n"
     ]
    }
   ],
   "source": [
    "import praw\n",
    "import os\n",
    "from PIL import Image, UnidentifiedImageError\n",
    "import random\n",
    "import requests\n",
    "import matplotlib.pyplot as plt\n",
    "import pprint\n",
    "\n",
    "from skimage.io import imread\n",
    "from sklearn.metrics import ConfusionMatrixDisplay, recall_score, precision_score, accuracy_score\n",
    "import pandas as pd\n",
    "from PIL import Image\n",
    "from transformers import CLIPTokenizer, CLIPProcessor, CLIPModel\n",
    "import matplotlib.pyplot as plt\n",
    "import torch\n",
    "from random import choice\n",
    "\n",
    "%matplotlib inline\n",
    "%load_ext autoreload\n",
    "%autoreload 2"
   ]
  },
  {
   "cell_type": "markdown",
   "id": "d1fe43b8",
   "metadata": {},
   "source": [
    "https://github.com/facebookresearch/faiss"
   ]
  },
  {
   "cell_type": "code",
   "execution_count": 4,
   "id": "1d076e41",
   "metadata": {},
   "outputs": [],
   "source": [
    "reddit = praw.Reddit(\n",
    "    client_id=os.getenv(\"REDDIT_CLIENT_ID\"),\n",
    "    client_secret=os.getenv(\"REDDIT_CLIENT_SECRET\"),\n",
    "    user_agent=\"/u/ManticFox bot\",\n",
    ")"
   ]
  },
  {
   "cell_type": "code",
   "execution_count": 5,
   "id": "046e1ebe",
   "metadata": {},
   "outputs": [],
   "source": [
    "pop = list(reddit.subreddit(\"popular\").top(limit=10, time_filter=\"year\"))\n",
    "pop = [p for p in pop if \".jpg\" in s.url or \".png\" in s.url]"
   ]
  },
  {
   "cell_type": "code",
   "execution_count": 13,
   "id": "06be27d4",
   "metadata": {},
   "outputs": [],
   "source": [
    "sub = pop[2]"
   ]
  },
  {
   "cell_type": "code",
   "execution_count": 16,
   "id": "6457b775",
   "metadata": {},
   "outputs": [
    {
     "data": {
      "text/plain": [
       "dict_keys(['comment_limit', 'comment_sort', '_reddit', 'approved_at_utc', 'subreddit', 'selftext', 'author_fullname', 'saved', 'mod_reason_title', 'gilded', 'clicked', 'title', 'link_flair_richtext', 'subreddit_name_prefixed', 'hidden', 'pwls', 'link_flair_css_class', 'downs', 'thumbnail_height', 'top_awarded_type', 'hide_score', 'name', 'quarantine', 'link_flair_text_color', 'upvote_ratio', 'author_flair_background_color', 'subreddit_type', 'ups', 'total_awards_received', 'media_embed', 'thumbnail_width', 'author_flair_template_id', 'is_original_content', 'user_reports', 'secure_media', 'is_reddit_media_domain', 'is_meta', 'category', 'secure_media_embed', 'link_flair_text', 'can_mod_post', 'score', 'approved_by', 'is_created_from_ads_ui', 'author_premium', 'thumbnail', 'edited', 'author_flair_css_class', 'author_flair_richtext', 'gildings', 'post_hint', 'content_categories', 'is_self', 'mod_note', 'created', 'link_flair_type', 'wls', 'removed_by_category', 'banned_by', 'author_flair_type', 'domain', 'allow_live_comments', 'selftext_html', 'likes', 'suggested_sort', 'banned_at_utc', 'url_overridden_by_dest', 'view_count', 'archived', 'no_follow', 'is_crosspostable', 'pinned', 'over_18', 'preview', 'all_awardings', 'awarders', 'media_only', 'can_gild', 'spoiler', 'locked', 'author_flair_text', 'treatment_tags', 'visited', 'removed_by', 'num_reports', 'distinguished', 'subreddit_id', 'author_is_blocked', 'mod_reason_by', 'removal_reason', 'link_flair_background_color', 'id', 'is_robot_indexable', 'report_reasons', 'author', 'discussion_type', 'num_comments', 'send_replies', 'whitelist_status', 'contest_mode', 'mod_reports', 'author_patreon_flair', 'author_flair_text_color', 'permalink', 'parent_whitelist_status', 'stickied', 'url', 'subreddit_subscribers', 'created_utc', 'num_crossposts', 'media', 'is_video', '_fetched', '_comments_by_id'])"
      ]
     },
     "execution_count": 16,
     "metadata": {},
     "output_type": "execute_result"
    }
   ],
   "source": [
    "vars(sub).keys()"
   ]
  },
  {
   "cell_type": "code",
   "execution_count": 21,
   "id": "eb1433b8",
   "metadata": {},
   "outputs": [
    {
     "data": {
      "text/plain": [
       "'https://a.thumbs.redditmedia.com/aHijlVZZZFTiVlJjyOq0g10nG7z5L9gDxXQ7PCDBGV0.jpg'"
      ]
     },
     "execution_count": 21,
     "metadata": {},
     "output_type": "execute_result"
    }
   ],
   "source": [
    "sub.thumbnail"
   ]
  },
  {
   "cell_type": "code",
   "execution_count": 22,
   "id": "1db9520c",
   "metadata": {},
   "outputs": [
    {
     "data": {
      "text/plain": [
       "'https://i.redd.it/lnmh7c4kelr81.png'"
      ]
     },
     "execution_count": 22,
     "metadata": {},
     "output_type": "execute_result"
    }
   ],
   "source": [
    "sub.url"
   ]
  },
  {
   "cell_type": "code",
   "execution_count": 25,
   "id": "e962f6da",
   "metadata": {},
   "outputs": [
    {
     "data": {
      "text/plain": [
       "'twft1q'"
      ]
     },
     "execution_count": 25,
     "metadata": {},
     "output_type": "execute_result"
    }
   ],
   "source": [
    "sub.id"
   ]
  },
  {
   "cell_type": "code",
   "execution_count": 27,
   "id": "ba87652c",
   "metadata": {},
   "outputs": [
    {
     "data": {
      "text/plain": [
       "'Full screenshot of r/place 2022'"
      ]
     },
     "execution_count": 27,
     "metadata": {},
     "output_type": "execute_result"
    }
   ],
   "source": [
    "sub.title"
   ]
  },
  {
   "cell_type": "code",
   "execution_count": 29,
   "id": "714c386f",
   "metadata": {},
   "outputs": [
    {
     "data": {
      "text/plain": [
       "'/r/place/comments/twft1q/full_screenshot_of_rplace_2022/'"
      ]
     },
     "execution_count": 29,
     "metadata": {},
     "output_type": "execute_result"
    }
   ],
   "source": [
    "sub.permalink"
   ]
  },
  {
   "cell_type": "code",
   "execution_count": 31,
   "id": "f5a2413b",
   "metadata": {},
   "outputs": [
    {
     "data": {
      "text/plain": [
       "'r/place'"
      ]
     },
     "execution_count": 31,
     "metadata": {},
     "output_type": "execute_result"
    }
   ],
   "source": [
    "sub.subreddit_name_prefixed"
   ]
  },
  {
   "cell_type": "code",
   "execution_count": 32,
   "id": "f374f19e",
   "metadata": {},
   "outputs": [
    {
     "data": {
      "text/plain": [
       "{}"
      ]
     },
     "execution_count": 32,
     "metadata": {},
     "output_type": "execute_result"
    }
   ],
   "source": [
    "sub.secure_media_embed"
   ]
  }
 ],
 "metadata": {
  "kernelspec": {
   "display_name": "Python 3 (ipykernel)",
   "language": "python",
   "name": "python3"
  },
  "language_info": {
   "codemirror_mode": {
    "name": "ipython",
    "version": 3
   },
   "file_extension": ".py",
   "mimetype": "text/x-python",
   "name": "python",
   "nbconvert_exporter": "python",
   "pygments_lexer": "ipython3",
   "version": "3.9.13"
  }
 },
 "nbformat": 4,
 "nbformat_minor": 5
}
